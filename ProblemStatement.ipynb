{
  "nbformat": 4,
  "nbformat_minor": 0,
  "metadata": {
    "colab": {
      "name": "Untitled6.ipynb",
      "provenance": [],
      "authorship_tag": "ABX9TyMByYWvieeL43k4UY1za5rb",
      "include_colab_link": true
    },
    "kernelspec": {
      "name": "python3",
      "display_name": "Python 3"
    }
  },
  "cells": [
    {
      "cell_type": "markdown",
      "metadata": {
        "id": "view-in-github",
        "colab_type": "text"
      },
      "source": [
        "<a href=\"https://colab.research.google.com/github/frankida/Coursera_Capstone/blob/master/ProblemStatement.ipynb\" target=\"_parent\"><img src=\"https://colab.research.google.com/assets/colab-badge.svg\" alt=\"Open In Colab\"/></a>"
      ]
    },
    {
      "cell_type": "markdown",
      "metadata": {
        "id": "SadD5wWoX9Q8",
        "colab_type": "text"
      },
      "source": [
        "### Problem Statement:\n",
        "- When moving to a new city one has limited information on the new city; however, using a comparison of known neighborhoods in the current city compared to a new city may help one familiarize with neighborhoods to potentially move to.\n",
        "- I propose using Foursquare data to cluster neighborhoods across cities to identify similarities in neighborhoods between cities.\n",
        "\n",
        "###  Data and approach\n",
        "- I'll create a list of neighborhoods in both San Antonio and Dallas cluster them as if they were in the same city.\n"
      ]
    },
    {
      "cell_type": "markdown",
      "metadata": {
        "id": "1esVDcWJZE6Q",
        "colab_type": "text"
      },
      "source": [
        ""
      ]
    }
  ]
}